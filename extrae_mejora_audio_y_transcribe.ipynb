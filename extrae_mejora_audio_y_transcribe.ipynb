{
  "cells": [
    {
      "cell_type": "markdown",
      "metadata": {
        "id": "view-in-github",
        "colab_type": "text"
      },
      "source": [
        "<a href=\"https://colab.research.google.com/github/missestrella2/catering_V2/blob/master/extrae_mejora_audio_y_transcribe.ipynb\" target=\"_parent\"><img src=\"https://colab.research.google.com/assets/colab-badge.svg\" alt=\"Open In Colab\"/></a>"
      ]
    },
    {
      "cell_type": "markdown",
      "source": [
        "El _notebook_:\n",
        "\n",
        "1. **Encuentra** el último video en la carpeta\n",
        "2. **Extrae** el audio en fragmentos y los almacena  \n",
        "3. **Procesa** cada fragmento y lo mejora\n",
        "4. **Reemplaza** la pista original del video, generando UN VIDEO NUEVO CON AUDIO MEJORADO\n",
        "5. **Transcribe** el video (luego hay que procesarlo para corregirlo, idealmente con chatgpt y por ultimo a mano) generando un txt"
      ],
      "metadata": {
        "id": "zez1s4Ar_bqb"
      }
    },
    {
      "cell_type": "code",
      "execution_count": null,
      "metadata": {
        "colab": {
          "base_uri": "https://localhost:8080/"
        },
        "id": "ctrCNkrJe6vi",
        "outputId": "52f809e8-a70f-46ed-84f5-ce16448e88af"
      },
      "outputs": [
        {
          "name": "stdout",
          "output_type": "stream",
          "text": [
            "Mounted at /content/drive\n"
          ]
        }
      ],
      "source": [
        "# prompt: montar drive\n",
        "from google.colab import drive\n",
        "\n",
        "drive.flush_and_unmount()  # Desmonta Google Drive\n",
        "\n",
        "drive.mount('/content/drive')\n"
      ]
    },
    {
      "cell_type": "code",
      "execution_count": null,
      "metadata": {
        "colab": {
          "base_uri": "https://localhost:8080/"
        },
        "id": "dfeGS-oNay9z",
        "outputId": "e47721e2-dbe2-42a8-dae7-3be956366ab7"
      },
      "outputs": [
        {
          "name": "stdout",
          "output_type": "stream",
          "text": [
            "\u001b[31mERROR: You must give at least one requirement to install (see \"pip help install\")\u001b[0m\u001b[31m\n",
            "\u001b[0m📦 Instalando librosa...\n",
            "✅ librosa instalada correctamente.\n",
            "📦 Instalando numpy...\n",
            "✅ numpy instalada correctamente.\n",
            "📦 Instalando soundfile...\n",
            "✅ soundfile instalada correctamente.\n",
            "📦 Instalando whisper...\n",
            "✅ whisper instalada correctamente.\n",
            "📦 Instalando torch...\n",
            "✅ torch instalada correctamente.\n",
            "📦 Instalando pydub...\n",
            "✅ pydub instalada correctamente.\n",
            "📦 Instalando pyloudnorm...\n",
            "✅ pyloudnorm instalada correctamente.\n",
            "📦 Instalando openai-whisper...\n",
            "✅ openai-whisper instalada correctamente.\n",
            "🎉 Todas las librerías han sido instaladas correctamente.\n"
          ]
        }
      ],
      "source": [
        "import subprocess\n",
        "import os\n",
        "\n",
        "\n",
        "\n",
        "# Lista de librerías a instalar\n",
        "librerias = [\"librosa\", \"numpy\", \"soundfile\", \"whisper\", \"torch\", \"pydub\", \"pyloudnorm\",\"openai-whisper\"]\n",
        "\n",
        "# Función para instalar y mostrar mensajes de inicio y finalización\n",
        "def instalar_libreria(libreria):\n",
        "    print(f\"📦 Instalando {libreria}...\")\n",
        "    subprocess.run([\"pip\", \"install\", libreria], stdout=open(os.devnull, 'w'), stderr=open(os.devnull, 'w'))\n",
        "    print(f\"✅ {libreria} instalada correctamente.\")\n",
        "\n",
        "# Instalar todas las librerías\n",
        "for lib in librerias:\n",
        "    instalar_libreria(lib)\n",
        "\n",
        "print(\"🎉 Todas las librerías han sido instaladas correctamente.\")\n"
      ]
    },
    {
      "cell_type": "code",
      "execution_count": null,
      "metadata": {
        "colab": {
          "base_uri": "https://localhost:8080/"
        },
        "collapsed": true,
        "id": "E9-kgMjTJKMv",
        "outputId": "57e8f09b-f0de-4dda-bdd7-0407e4221e21"
      },
      "outputs": [
        {
          "name": "stdout",
          "output_type": "stream",
          "text": [
            "Requirement already satisfied: librosa in /usr/local/lib/python3.11/dist-packages (0.10.2.post1)\n",
            "Requirement already satisfied: numpy in /usr/local/lib/python3.11/dist-packages (1.26.4)\n",
            "Requirement already satisfied: soundfile in /usr/local/lib/python3.11/dist-packages (0.13.1)\n",
            "Collecting whisper\n",
            "  Downloading whisper-1.1.10.tar.gz (42 kB)\n",
            "\u001b[2K     \u001b[90m━━━━━━━━━━━━━━━━━━━━━━━━━━━━━━━━━━━━━━━━\u001b[0m \u001b[32m42.8/42.8 kB\u001b[0m \u001b[31m1.4 MB/s\u001b[0m eta \u001b[36m0:00:00\u001b[0m\n",
            "\u001b[?25h  Preparing metadata (setup.py) ... \u001b[?25l\u001b[?25hdone\n",
            "Requirement already satisfied: torch in /usr/local/lib/python3.11/dist-packages (2.5.1+cu124)\n",
            "Collecting pydub\n",
            "  Downloading pydub-0.25.1-py2.py3-none-any.whl.metadata (1.4 kB)\n",
            "Collecting pyloudnorm\n",
            "  Downloading pyloudnorm-0.1.1-py3-none-any.whl.metadata (5.6 kB)\n",
            "Requirement already satisfied: audioread>=2.1.9 in /usr/local/lib/python3.11/dist-packages (from librosa) (3.0.1)\n",
            "Requirement already satisfied: scipy>=1.2.0 in /usr/local/lib/python3.11/dist-packages (from librosa) (1.13.1)\n",
            "Requirement already satisfied: scikit-learn>=0.20.0 in /usr/local/lib/python3.11/dist-packages (from librosa) (1.6.1)\n",
            "Requirement already satisfied: joblib>=0.14 in /usr/local/lib/python3.11/dist-packages (from librosa) (1.4.2)\n",
            "Requirement already satisfied: decorator>=4.3.0 in /usr/local/lib/python3.11/dist-packages (from librosa) (4.4.2)\n",
            "Requirement already satisfied: numba>=0.51.0 in /usr/local/lib/python3.11/dist-packages (from librosa) (0.60.0)\n",
            "Requirement already satisfied: pooch>=1.1 in /usr/local/lib/python3.11/dist-packages (from librosa) (1.8.2)\n",
            "Requirement already satisfied: soxr>=0.3.2 in /usr/local/lib/python3.11/dist-packages (from librosa) (0.5.0.post1)\n",
            "Requirement already satisfied: typing-extensions>=4.1.1 in /usr/local/lib/python3.11/dist-packages (from librosa) (4.12.2)\n",
            "Requirement already satisfied: lazy-loader>=0.1 in /usr/local/lib/python3.11/dist-packages (from librosa) (0.4)\n",
            "Requirement already satisfied: msgpack>=1.0 in /usr/local/lib/python3.11/dist-packages (from librosa) (1.1.0)\n",
            "Requirement already satisfied: cffi>=1.0 in /usr/local/lib/python3.11/dist-packages (from soundfile) (1.17.1)\n",
            "Requirement already satisfied: six in /usr/local/lib/python3.11/dist-packages (from whisper) (1.17.0)\n",
            "Requirement already satisfied: filelock in /usr/local/lib/python3.11/dist-packages (from torch) (3.17.0)\n",
            "Requirement already satisfied: networkx in /usr/local/lib/python3.11/dist-packages (from torch) (3.4.2)\n",
            "Requirement already satisfied: jinja2 in /usr/local/lib/python3.11/dist-packages (from torch) (3.1.5)\n",
            "Requirement already satisfied: fsspec in /usr/local/lib/python3.11/dist-packages (from torch) (2024.10.0)\n",
            "Collecting nvidia-cuda-nvrtc-cu12==12.4.127 (from torch)\n",
            "  Downloading nvidia_cuda_nvrtc_cu12-12.4.127-py3-none-manylinux2014_x86_64.whl.metadata (1.5 kB)\n",
            "Collecting nvidia-cuda-runtime-cu12==12.4.127 (from torch)\n",
            "  Downloading nvidia_cuda_runtime_cu12-12.4.127-py3-none-manylinux2014_x86_64.whl.metadata (1.5 kB)\n",
            "Collecting nvidia-cuda-cupti-cu12==12.4.127 (from torch)\n",
            "  Downloading nvidia_cuda_cupti_cu12-12.4.127-py3-none-manylinux2014_x86_64.whl.metadata (1.6 kB)\n",
            "Collecting nvidia-cudnn-cu12==9.1.0.70 (from torch)\n",
            "  Downloading nvidia_cudnn_cu12-9.1.0.70-py3-none-manylinux2014_x86_64.whl.metadata (1.6 kB)\n",
            "Collecting nvidia-cublas-cu12==12.4.5.8 (from torch)\n",
            "  Downloading nvidia_cublas_cu12-12.4.5.8-py3-none-manylinux2014_x86_64.whl.metadata (1.5 kB)\n",
            "Collecting nvidia-cufft-cu12==11.2.1.3 (from torch)\n",
            "  Downloading nvidia_cufft_cu12-11.2.1.3-py3-none-manylinux2014_x86_64.whl.metadata (1.5 kB)\n",
            "Collecting nvidia-curand-cu12==10.3.5.147 (from torch)\n",
            "  Downloading nvidia_curand_cu12-10.3.5.147-py3-none-manylinux2014_x86_64.whl.metadata (1.5 kB)\n",
            "Collecting nvidia-cusolver-cu12==11.6.1.9 (from torch)\n",
            "  Downloading nvidia_cusolver_cu12-11.6.1.9-py3-none-manylinux2014_x86_64.whl.metadata (1.6 kB)\n",
            "Collecting nvidia-cusparse-cu12==12.3.1.170 (from torch)\n",
            "  Downloading nvidia_cusparse_cu12-12.3.1.170-py3-none-manylinux2014_x86_64.whl.metadata (1.6 kB)\n",
            "Requirement already satisfied: nvidia-nccl-cu12==2.21.5 in /usr/local/lib/python3.11/dist-packages (from torch) (2.21.5)\n",
            "Requirement already satisfied: nvidia-nvtx-cu12==12.4.127 in /usr/local/lib/python3.11/dist-packages (from torch) (12.4.127)\n",
            "Collecting nvidia-nvjitlink-cu12==12.4.127 (from torch)\n",
            "  Downloading nvidia_nvjitlink_cu12-12.4.127-py3-none-manylinux2014_x86_64.whl.metadata (1.5 kB)\n",
            "Requirement already satisfied: triton==3.1.0 in /usr/local/lib/python3.11/dist-packages (from torch) (3.1.0)\n",
            "Requirement already satisfied: sympy==1.13.1 in /usr/local/lib/python3.11/dist-packages (from torch) (1.13.1)\n",
            "Requirement already satisfied: mpmath<1.4,>=1.1.0 in /usr/local/lib/python3.11/dist-packages (from sympy==1.13.1->torch) (1.3.0)\n",
            "Requirement already satisfied: future>=0.16.0 in /usr/local/lib/python3.11/dist-packages (from pyloudnorm) (1.0.0)\n",
            "Requirement already satisfied: pycparser in /usr/local/lib/python3.11/dist-packages (from cffi>=1.0->soundfile) (2.22)\n",
            "Requirement already satisfied: packaging in /usr/local/lib/python3.11/dist-packages (from lazy-loader>=0.1->librosa) (24.2)\n",
            "Requirement already satisfied: llvmlite<0.44,>=0.43.0dev0 in /usr/local/lib/python3.11/dist-packages (from numba>=0.51.0->librosa) (0.43.0)\n",
            "Requirement already satisfied: platformdirs>=2.5.0 in /usr/local/lib/python3.11/dist-packages (from pooch>=1.1->librosa) (4.3.6)\n",
            "Requirement already satisfied: requests>=2.19.0 in /usr/local/lib/python3.11/dist-packages (from pooch>=1.1->librosa) (2.32.3)\n",
            "Requirement already satisfied: threadpoolctl>=3.1.0 in /usr/local/lib/python3.11/dist-packages (from scikit-learn>=0.20.0->librosa) (3.5.0)\n",
            "Requirement already satisfied: MarkupSafe>=2.0 in /usr/local/lib/python3.11/dist-packages (from jinja2->torch) (3.0.2)\n",
            "Requirement already satisfied: charset-normalizer<4,>=2 in /usr/local/lib/python3.11/dist-packages (from requests>=2.19.0->pooch>=1.1->librosa) (3.4.1)\n",
            "Requirement already satisfied: idna<4,>=2.5 in /usr/local/lib/python3.11/dist-packages (from requests>=2.19.0->pooch>=1.1->librosa) (3.10)\n",
            "Requirement already satisfied: urllib3<3,>=1.21.1 in /usr/local/lib/python3.11/dist-packages (from requests>=2.19.0->pooch>=1.1->librosa) (2.3.0)\n",
            "Requirement already satisfied: certifi>=2017.4.17 in /usr/local/lib/python3.11/dist-packages (from requests>=2.19.0->pooch>=1.1->librosa) (2024.12.14)\n",
            "Downloading nvidia_cublas_cu12-12.4.5.8-py3-none-manylinux2014_x86_64.whl (363.4 MB)\n",
            "\u001b[2K   \u001b[90m━━━━━━━━━━━━━━━━━━━━━━━━━━━━━━━━━━━━━━━━\u001b[0m \u001b[32m363.4/363.4 MB\u001b[0m \u001b[31m4.2 MB/s\u001b[0m eta \u001b[36m0:00:00\u001b[0m\n",
            "\u001b[?25hDownloading nvidia_cuda_cupti_cu12-12.4.127-py3-none-manylinux2014_x86_64.whl (13.8 MB)\n",
            "\u001b[2K   \u001b[90m━━━━━━━━━━━━━━━━━━━━━━━━━━━━━━━━━━━━━━━━\u001b[0m \u001b[32m13.8/13.8 MB\u001b[0m \u001b[31m15.1 MB/s\u001b[0m eta \u001b[36m0:00:00\u001b[0m\n",
            "\u001b[?25hDownloading nvidia_cuda_nvrtc_cu12-12.4.127-py3-none-manylinux2014_x86_64.whl (24.6 MB)\n",
            "\u001b[2K   \u001b[90m━━━━━━━━━━━━━━━━━━━━━━━━━━━━━━━━━━━━━━━━\u001b[0m \u001b[32m24.6/24.6 MB\u001b[0m \u001b[31m11.8 MB/s\u001b[0m eta \u001b[36m0:00:00\u001b[0m\n",
            "\u001b[?25hDownloading nvidia_cuda_runtime_cu12-12.4.127-py3-none-manylinux2014_x86_64.whl (883 kB)\n",
            "\u001b[2K   \u001b[90m━━━━━━━━━━━━━━━━━━━━━━━━━━━━━━━━━━━━━━━━\u001b[0m \u001b[32m883.7/883.7 kB\u001b[0m \u001b[31m12.3 MB/s\u001b[0m eta \u001b[36m0:00:00\u001b[0m\n",
            "\u001b[?25hDownloading nvidia_cudnn_cu12-9.1.0.70-py3-none-manylinux2014_x86_64.whl (664.8 MB)\n",
            "\u001b[2K   \u001b[90m━━━━━━━━━━━━━━━━━━━━━━━━━━━━━━━━━━━━━━━━\u001b[0m \u001b[32m664.8/664.8 MB\u001b[0m \u001b[31m1.2 MB/s\u001b[0m eta \u001b[36m0:00:00\u001b[0m\n",
            "\u001b[?25hDownloading nvidia_cufft_cu12-11.2.1.3-py3-none-manylinux2014_x86_64.whl (211.5 MB)\n",
            "\u001b[2K   \u001b[90m━━━━━━━━━━━━━━━━━━━━━━━━━━━━━━━━━━━━━━━━\u001b[0m \u001b[32m211.5/211.5 MB\u001b[0m \u001b[31m5.8 MB/s\u001b[0m eta \u001b[36m0:00:00\u001b[0m\n",
            "\u001b[?25hDownloading nvidia_curand_cu12-10.3.5.147-py3-none-manylinux2014_x86_64.whl (56.3 MB)\n",
            "\u001b[2K   \u001b[90m━━━━━━━━━━━━━━━━━━━━━━━━━━━━━━━━━━━━━━━━\u001b[0m \u001b[32m56.3/56.3 MB\u001b[0m \u001b[31m8.2 MB/s\u001b[0m eta \u001b[36m0:00:00\u001b[0m\n",
            "\u001b[?25hDownloading nvidia_cusolver_cu12-11.6.1.9-py3-none-manylinux2014_x86_64.whl (127.9 MB)\n",
            "\u001b[2K   \u001b[90m━━━━━━━━━━━━━━━━━━━━━━━━━━━━━━━━━━━━━━━━\u001b[0m \u001b[32m127.9/127.9 MB\u001b[0m \u001b[31m6.0 MB/s\u001b[0m eta \u001b[36m0:00:00\u001b[0m\n",
            "\u001b[?25hDownloading nvidia_cusparse_cu12-12.3.1.170-py3-none-manylinux2014_x86_64.whl (207.5 MB)\n",
            "\u001b[2K   \u001b[90m━━━━━━━━━━━━━━━━━━━━━━━━━━━━━━━━━━━━━━━━\u001b[0m \u001b[32m207.5/207.5 MB\u001b[0m \u001b[31m5.3 MB/s\u001b[0m eta \u001b[36m0:00:00\u001b[0m\n",
            "\u001b[?25hDownloading nvidia_nvjitlink_cu12-12.4.127-py3-none-manylinux2014_x86_64.whl (21.1 MB)\n",
            "\u001b[2K   \u001b[90m━━━━━━━━━━━━━━━━━━━━━━━━━━━━━━━━━━━━━━━━\u001b[0m \u001b[32m21.1/21.1 MB\u001b[0m \u001b[31m17.1 MB/s\u001b[0m eta \u001b[36m0:00:00\u001b[0m\n",
            "\u001b[?25hDownloading pydub-0.25.1-py2.py3-none-any.whl (32 kB)\n",
            "Downloading pyloudnorm-0.1.1-py3-none-any.whl (9.6 kB)\n",
            "Building wheels for collected packages: whisper\n",
            "  Building wheel for whisper (setup.py) ... \u001b[?25l\u001b[?25hdone\n",
            "  Created wheel for whisper: filename=whisper-1.1.10-py3-none-any.whl size=41120 sha256=8d03101160375d2975f485e4e4a86f63403850b5eb3603adafc263787ed51835\n",
            "  Stored in directory: /root/.cache/pip/wheels/21/65/ee/4e6672aabfa486d3341a39a04f8f87c77e5156149299b5a7d0\n",
            "Successfully built whisper\n",
            "Installing collected packages: pydub, whisper, nvidia-nvjitlink-cu12, nvidia-curand-cu12, nvidia-cufft-cu12, nvidia-cuda-runtime-cu12, nvidia-cuda-nvrtc-cu12, nvidia-cuda-cupti-cu12, nvidia-cublas-cu12, pyloudnorm, nvidia-cusparse-cu12, nvidia-cudnn-cu12, nvidia-cusolver-cu12\n",
            "  Attempting uninstall: nvidia-nvjitlink-cu12\n",
            "    Found existing installation: nvidia-nvjitlink-cu12 12.5.82\n",
            "    Uninstalling nvidia-nvjitlink-cu12-12.5.82:\n",
            "      Successfully uninstalled nvidia-nvjitlink-cu12-12.5.82\n",
            "  Attempting uninstall: nvidia-curand-cu12\n",
            "    Found existing installation: nvidia-curand-cu12 10.3.6.82\n",
            "    Uninstalling nvidia-curand-cu12-10.3.6.82:\n",
            "      Successfully uninstalled nvidia-curand-cu12-10.3.6.82\n",
            "  Attempting uninstall: nvidia-cufft-cu12\n",
            "    Found existing installation: nvidia-cufft-cu12 11.2.3.61\n",
            "    Uninstalling nvidia-cufft-cu12-11.2.3.61:\n",
            "      Successfully uninstalled nvidia-cufft-cu12-11.2.3.61\n",
            "  Attempting uninstall: nvidia-cuda-runtime-cu12\n",
            "    Found existing installation: nvidia-cuda-runtime-cu12 12.5.82\n",
            "    Uninstalling nvidia-cuda-runtime-cu12-12.5.82:\n",
            "      Successfully uninstalled nvidia-cuda-runtime-cu12-12.5.82\n",
            "  Attempting uninstall: nvidia-cuda-nvrtc-cu12\n",
            "    Found existing installation: nvidia-cuda-nvrtc-cu12 12.5.82\n",
            "    Uninstalling nvidia-cuda-nvrtc-cu12-12.5.82:\n",
            "      Successfully uninstalled nvidia-cuda-nvrtc-cu12-12.5.82\n",
            "  Attempting uninstall: nvidia-cuda-cupti-cu12\n",
            "    Found existing installation: nvidia-cuda-cupti-cu12 12.5.82\n",
            "    Uninstalling nvidia-cuda-cupti-cu12-12.5.82:\n",
            "      Successfully uninstalled nvidia-cuda-cupti-cu12-12.5.82\n",
            "  Attempting uninstall: nvidia-cublas-cu12\n",
            "    Found existing installation: nvidia-cublas-cu12 12.5.3.2\n",
            "    Uninstalling nvidia-cublas-cu12-12.5.3.2:\n",
            "      Successfully uninstalled nvidia-cublas-cu12-12.5.3.2\n",
            "  Attempting uninstall: nvidia-cusparse-cu12\n",
            "    Found existing installation: nvidia-cusparse-cu12 12.5.1.3\n",
            "    Uninstalling nvidia-cusparse-cu12-12.5.1.3:\n",
            "      Successfully uninstalled nvidia-cusparse-cu12-12.5.1.3\n",
            "  Attempting uninstall: nvidia-cudnn-cu12\n",
            "    Found existing installation: nvidia-cudnn-cu12 9.3.0.75\n",
            "    Uninstalling nvidia-cudnn-cu12-9.3.0.75:\n",
            "      Successfully uninstalled nvidia-cudnn-cu12-9.3.0.75\n",
            "  Attempting uninstall: nvidia-cusolver-cu12\n",
            "    Found existing installation: nvidia-cusolver-cu12 11.6.3.83\n",
            "    Uninstalling nvidia-cusolver-cu12-11.6.3.83:\n",
            "      Successfully uninstalled nvidia-cusolver-cu12-11.6.3.83\n",
            "Successfully installed nvidia-cublas-cu12-12.4.5.8 nvidia-cuda-cupti-cu12-12.4.127 nvidia-cuda-nvrtc-cu12-12.4.127 nvidia-cuda-runtime-cu12-12.4.127 nvidia-cudnn-cu12-9.1.0.70 nvidia-cufft-cu12-11.2.1.3 nvidia-curand-cu12-10.3.5.147 nvidia-cusolver-cu12-11.6.1.9 nvidia-cusparse-cu12-12.3.1.170 nvidia-nvjitlink-cu12-12.4.127 pydub-0.25.1 pyloudnorm-0.1.1 whisper-1.1.10\n"
          ]
        }
      ],
      "source": [
        "#!pip install librosa numpy soundfile whisper torch pydub pyloudnorm\n"
      ]
    },
    {
      "cell_type": "code",
      "execution_count": null,
      "metadata": {
        "id": "c4FoHVYZ__if"
      },
      "outputs": [],
      "source": [
        "import os\n",
        "import librosa\n",
        "import numpy as np\n",
        "import soundfile as sf\n",
        "import whisper\n",
        "import torch\n",
        "from pydub import AudioSegment\n",
        "from pydub import effects\n",
        "import pyloudnorm as pyln  # Para normalización LUFS\n"
      ]
    },
    {
      "cell_type": "code",
      "execution_count": null,
      "metadata": {
        "colab": {
          "base_uri": "https://localhost:8080/"
        },
        "id": "1VUfkEc5_9bi",
        "outputId": "cd5eb950-5bb7-42c2-b3b2-7e89a390e1a7"
      },
      "outputs": [
        {
          "name": "stdout",
          "output_type": "stream",
          "text": [
            "📂 Rutas utilizadas:\n",
            "   🎥 Video original: /content/drive/MyDrive/erick_videos/0823.mp4\n",
            "   📁 Carpeta del video: /content/drive/MyDrive/erick_videos/0823\n",
            "   🔉 Carpeta de audios sin mejorar: /content/drive/MyDrive/erick_videos/0823/audios_sin_mejorar\n",
            "   🔊 Carpeta de audios mejorados: /content/drive/MyDrive/erick_videos/0823/audios_mejorados\n",
            "   📝 Carpeta de transcripciones: /content/drive/MyDrive/erick_videos/0823/transcripciones\n",
            "   🎬 Carpeta de videos finales: /content/drive/MyDrive/erick_videos/0823/videos_con_audio_mejorado\n"
          ]
        }
      ],
      "source": [
        "# Definir carpeta raíz para organizar los archivos\n",
        "root_folder = \"/content/drive/MyDrive/erick_videos\"\n",
        "os.makedirs(root_folder, exist_ok=True)\n",
        "\n",
        "# Buscar el archivo MP4 más reciente en la carpeta raíz\n",
        "def get_latest_video(folder):\n",
        "    video_files = [f for f in os.listdir(folder) if f.endswith(\".mp4\")]\n",
        "    if not video_files:\n",
        "        raise FileNotFoundError(\"❌ No se encontraron archivos MP4 en la carpeta.\")\n",
        "    latest_video = max(video_files, key=lambda f: os.path.getmtime(os.path.join(folder, f)))\n",
        "    return os.path.join(folder, latest_video)\n",
        "\n",
        "# Definir rutas dinámicas basadas en el último video encontrado\n",
        "video_path = get_latest_video(root_folder)\n",
        "video_name = os.path.splitext(os.path.basename(video_path))[0]  # Obtener nombre del archivo sin extensión\n",
        "video_folder = os.path.join(root_folder, video_name)\n",
        "\n",
        "# Crear subcarpetas dentro del directorio del video\n",
        "audio_sin_mejorar_folder = os.path.join(video_folder, \"audios_sin_mejorar\")\n",
        "audio_mejorado_folder = os.path.join(video_folder, \"audios_mejorados\")\n",
        "transcription_folder = os.path.join(video_folder, \"transcripciones\")\n",
        "video_output_folder = os.path.join(video_folder, \"videos_con_audio_mejorado\")\n",
        "processed_audio_path = os.path.join(audio_mejorado_folder, \"audio_mejorado.wav\")\n",
        "processed_audio_aac = processed_audio_path.replace(\".wav\", \".aac\")\n",
        "\n",
        "# Crear carpetas si no existen\n",
        "os.makedirs(audio_sin_mejorar_folder, exist_ok=True)\n",
        "os.makedirs(audio_mejorado_folder, exist_ok=True)\n",
        "os.makedirs(transcription_folder, exist_ok=True)\n",
        "os.makedirs(video_output_folder, exist_ok=True)\n",
        "\n",
        "# Definir rutas de archivos\n",
        "audio_path = os.path.join(video_folder, \"audio_extraido.wav\")\n",
        "processed_audio_path = os.path.join(video_folder, \"audio_mejorado.wav\")\n",
        "transcription_path = os.path.join(transcription_folder, \"transcripcion.txt\")\n",
        "final_video_path = os.path.join(video_output_folder, \"video_con_audio_mejorado.mp4\")\n",
        "fragment_duration = 10 * 60 * 1000  # 10 minutos en milisegundos\n",
        "\n",
        "# Imprimir rutas para verificación\n",
        "print(\"📂 Rutas utilizadas:\")\n",
        "print(f\"   🎥 Video original: {video_path}\")\n",
        "print(f\"   📁 Carpeta del video: {video_folder}\")\n",
        "print(f\"   🔉 Carpeta de audios sin mejorar: {audio_sin_mejorar_folder}\")\n",
        "print(f\"   🔊 Carpeta de audios mejorados: {audio_mejorado_folder}\")\n",
        "print(f\"   📝 Carpeta de transcripciones: {transcription_folder}\")\n",
        "print(f\"   🎬 Carpeta de videos finales: {video_output_folder}\")"
      ]
    },
    {
      "cell_type": "code",
      "execution_count": null,
      "metadata": {
        "colab": {
          "base_uri": "https://localhost:8080/"
        },
        "id": "MaHedFDtAP_f",
        "outputId": "b055896a-06db-4f29-d294-6316e7eb66ad"
      },
      "outputs": [
        {
          "name": "stdout",
          "output_type": "stream",
          "text": [
            "🎬 Extrayendo audio del video más reciente: /content/drive/MyDrive/erick_videos/0823.mp4\n",
            "✅ Audio extraído correctamente.\n"
          ]
        }
      ],
      "source": [
        "# Extraer audio del video\n",
        "print(f\"🎬 Extrayendo audio del video más reciente: {video_path}\")\n",
        "os.system(f\"ffmpeg -i \\\"{video_path}\\\" -q:a 0 -map a \\\"{audio_path}\\\"\")\n",
        "if not os.path.exists(audio_path):\n",
        "    raise FileNotFoundError(\"❌ Error: No se pudo extraer el audio del video. Verifica la ruta del video.\")\n",
        "print(\"✅ Audio extraído correctamente.\")"
      ]
    },
    {
      "cell_type": "code",
      "execution_count": null,
      "metadata": {
        "colab": {
          "base_uri": "https://localhost:8080/"
        },
        "id": "M5_pT23dEMxe",
        "outputId": "6ee29ecc-709b-4f0c-ed2c-6641904c3f9d"
      },
      "outputs": [
        {
          "name": "stdout",
          "output_type": "stream",
          "text": [
            "🎧 Cargando y dividiendo el audio en fragmentos...\n",
            "🟢 Fragmento guardado: /content/drive/MyDrive/erick_videos/0823/audios_sin_mejorar/parte_0.wav\n",
            "🟢 Fragmento guardado: /content/drive/MyDrive/erick_videos/0823/audios_sin_mejorar/parte_1.wav\n",
            "🟢 Fragmento guardado: /content/drive/MyDrive/erick_videos/0823/audios_sin_mejorar/parte_2.wav\n",
            "🟢 Fragmento guardado: /content/drive/MyDrive/erick_videos/0823/audios_sin_mejorar/parte_3.wav\n",
            "🟢 Fragmento guardado: /content/drive/MyDrive/erick_videos/0823/audios_sin_mejorar/parte_4.wav\n",
            "🟢 Fragmento guardado: /content/drive/MyDrive/erick_videos/0823/audios_sin_mejorar/parte_5.wav\n",
            "🟢 Fragmento guardado: /content/drive/MyDrive/erick_videos/0823/audios_sin_mejorar/parte_6.wav\n",
            "🟢 Fragmento guardado: /content/drive/MyDrive/erick_videos/0823/audios_sin_mejorar/parte_7.wav\n",
            "✅ Audio dividido correctamente.\n"
          ]
        }
      ],
      "source": [
        "# Cargar audio y dividirlo en fragmentos\n",
        "print(\"🎧 Cargando y dividiendo el audio en fragmentos...\")\n",
        "audio = AudioSegment.from_wav(audio_path)\n",
        "duracion = len(audio)  # Duración total en milisegundos\n",
        "fragmentos = []\n",
        "\n",
        "for i, start in enumerate(range(0, duracion, fragment_duration)):\n",
        "    segmento = audio[start:start+fragment_duration]\n",
        "    parte_path = os.path.join(audio_sin_mejorar_folder, f\"parte_{i}.wav\")\n",
        "    segmento.export(parte_path, format=\"wav\")\n",
        "    fragmentos.append(parte_path)\n",
        "    print(f\"🟢 Fragmento guardado: {parte_path}\")\n",
        "\n",
        "print(\"✅ Audio dividido correctamente.\")"
      ]
    },
    {
      "cell_type": "code",
      "execution_count": 12,
      "metadata": {
        "id": "k2wy1XW2pXCc",
        "colab": {
          "base_uri": "https://localhost:8080/"
        },
        "outputId": "170b7767-46b9-4161-df38-30dce52352ed"
      },
      "outputs": [
        {
          "output_type": "stream",
          "name": "stdout",
          "text": [
            "🎛 Encontrados 8 archivo(s) en '/content/drive/MyDrive/erick_videos/0823/audios_sin_mejorar'. Iniciando proceso...\n",
            "\n",
            "🔧 Procesando: /content/drive/MyDrive/erick_videos/0823/audios_sin_mejorar/parte_0.wav\n",
            "   📊 LUFS antes de normalizar: -68.17 LUFS\n"
          ]
        },
        {
          "output_type": "stream",
          "name": "stderr",
          "text": [
            "/usr/local/lib/python3.11/dist-packages/pyloudnorm/normalize.py:62: UserWarning: Possible clipped samples in output.\n",
            "  warnings.warn(\"Possible clipped samples in output.\")\n"
          ]
        },
        {
          "output_type": "stream",
          "name": "stdout",
          "text": [
            "   ✅ Normalizado a -14.0 LUFS\n",
            "   ✅ Archivo exportado en: /content/drive/MyDrive/erick_videos/0823/audios_mejorados/parte_0_mejorado.wav\n",
            "\n",
            "✅ Progreso: 1/8 finalizado.\n",
            "\n",
            "🔧 Procesando: /content/drive/MyDrive/erick_videos/0823/audios_sin_mejorar/parte_1.wav\n",
            "   📊 LUFS antes de normalizar: -65.66 LUFS\n",
            "   ✅ Normalizado a -14.0 LUFS\n"
          ]
        },
        {
          "output_type": "stream",
          "name": "stderr",
          "text": [
            "/usr/local/lib/python3.11/dist-packages/pyloudnorm/normalize.py:62: UserWarning: Possible clipped samples in output.\n",
            "  warnings.warn(\"Possible clipped samples in output.\")\n"
          ]
        },
        {
          "output_type": "stream",
          "name": "stdout",
          "text": [
            "   ✅ Archivo exportado en: /content/drive/MyDrive/erick_videos/0823/audios_mejorados/parte_1_mejorado.wav\n",
            "\n",
            "✅ Progreso: 2/8 finalizado.\n",
            "\n",
            "🔧 Procesando: /content/drive/MyDrive/erick_videos/0823/audios_sin_mejorar/parte_2.wav\n",
            "   📊 LUFS antes de normalizar: -65.30 LUFS\n",
            "   ✅ Normalizado a -14.0 LUFS\n"
          ]
        },
        {
          "output_type": "stream",
          "name": "stderr",
          "text": [
            "/usr/local/lib/python3.11/dist-packages/pyloudnorm/normalize.py:62: UserWarning: Possible clipped samples in output.\n",
            "  warnings.warn(\"Possible clipped samples in output.\")\n"
          ]
        },
        {
          "output_type": "stream",
          "name": "stdout",
          "text": [
            "   ✅ Archivo exportado en: /content/drive/MyDrive/erick_videos/0823/audios_mejorados/parte_2_mejorado.wav\n",
            "\n",
            "✅ Progreso: 3/8 finalizado.\n",
            "\n",
            "🔧 Procesando: /content/drive/MyDrive/erick_videos/0823/audios_sin_mejorar/parte_3.wav\n",
            "   📊 LUFS antes de normalizar: -66.78 LUFS\n",
            "   ✅ Normalizado a -14.0 LUFS\n"
          ]
        },
        {
          "output_type": "stream",
          "name": "stderr",
          "text": [
            "/usr/local/lib/python3.11/dist-packages/pyloudnorm/normalize.py:62: UserWarning: Possible clipped samples in output.\n",
            "  warnings.warn(\"Possible clipped samples in output.\")\n"
          ]
        },
        {
          "output_type": "stream",
          "name": "stdout",
          "text": [
            "   ✅ Archivo exportado en: /content/drive/MyDrive/erick_videos/0823/audios_mejorados/parte_3_mejorado.wav\n",
            "\n",
            "✅ Progreso: 4/8 finalizado.\n",
            "\n",
            "🔧 Procesando: /content/drive/MyDrive/erick_videos/0823/audios_sin_mejorar/parte_4.wav\n",
            "   📊 LUFS antes de normalizar: -66.71 LUFS\n",
            "   ✅ Normalizado a -14.0 LUFS\n"
          ]
        },
        {
          "output_type": "stream",
          "name": "stderr",
          "text": [
            "/usr/local/lib/python3.11/dist-packages/pyloudnorm/normalize.py:62: UserWarning: Possible clipped samples in output.\n",
            "  warnings.warn(\"Possible clipped samples in output.\")\n"
          ]
        },
        {
          "output_type": "stream",
          "name": "stdout",
          "text": [
            "   ✅ Archivo exportado en: /content/drive/MyDrive/erick_videos/0823/audios_mejorados/parte_4_mejorado.wav\n",
            "\n",
            "✅ Progreso: 5/8 finalizado.\n",
            "\n",
            "🔧 Procesando: /content/drive/MyDrive/erick_videos/0823/audios_sin_mejorar/parte_5.wav\n",
            "   📊 LUFS antes de normalizar: -64.41 LUFS\n",
            "   ✅ Normalizado a -14.0 LUFS\n"
          ]
        },
        {
          "output_type": "stream",
          "name": "stderr",
          "text": [
            "/usr/local/lib/python3.11/dist-packages/pyloudnorm/normalize.py:62: UserWarning: Possible clipped samples in output.\n",
            "  warnings.warn(\"Possible clipped samples in output.\")\n"
          ]
        },
        {
          "output_type": "stream",
          "name": "stdout",
          "text": [
            "   ✅ Archivo exportado en: /content/drive/MyDrive/erick_videos/0823/audios_mejorados/parte_5_mejorado.wav\n",
            "\n",
            "✅ Progreso: 6/8 finalizado.\n",
            "\n",
            "🔧 Procesando: /content/drive/MyDrive/erick_videos/0823/audios_sin_mejorar/parte_6.wav\n",
            "   📊 LUFS antes de normalizar: -64.69 LUFS\n",
            "   ✅ Normalizado a -14.0 LUFS\n"
          ]
        },
        {
          "output_type": "stream",
          "name": "stderr",
          "text": [
            "/usr/local/lib/python3.11/dist-packages/pyloudnorm/normalize.py:62: UserWarning: Possible clipped samples in output.\n",
            "  warnings.warn(\"Possible clipped samples in output.\")\n"
          ]
        },
        {
          "output_type": "stream",
          "name": "stdout",
          "text": [
            "   ✅ Archivo exportado en: /content/drive/MyDrive/erick_videos/0823/audios_mejorados/parte_6_mejorado.wav\n",
            "\n",
            "✅ Progreso: 7/8 finalizado.\n",
            "\n",
            "🔧 Procesando: /content/drive/MyDrive/erick_videos/0823/audios_sin_mejorar/parte_7.wav\n",
            "   📊 LUFS antes de normalizar: -62.68 LUFS\n",
            "   ✅ Normalizado a -14.0 LUFS\n",
            "   ✅ Archivo exportado en: /content/drive/MyDrive/erick_videos/0823/audios_mejorados/parte_7_mejorado.wav\n",
            "\n",
            "✅ Progreso: 8/8 finalizado.\n",
            "\n",
            "🏁 ¡Proceso completado!\n"
          ]
        },
        {
          "output_type": "stream",
          "name": "stderr",
          "text": [
            "/usr/local/lib/python3.11/dist-packages/pyloudnorm/normalize.py:62: UserWarning: Possible clipped samples in output.\n",
            "  warnings.warn(\"Possible clipped samples in output.\")\n"
          ]
        }
      ],
      "source": [
        "import os\n",
        "import glob\n",
        "import numpy as np\n",
        "import pyloudnorm as pyln\n",
        "\n",
        "from pydub import AudioSegment, effects\n",
        "\n",
        "# Carpetas de entrada/salida (ajusta a tus rutas)\n",
        "INPUT_FOLDER = os.path.join(video_folder, \"audios_sin_mejorar\")\n",
        "OUTPUT_FOLDER = os.path.join(video_folder, \"audios_mejorados\")\n",
        "\n",
        "def mejorar_audio(file_path, output_file):\n",
        "    print(f\"🔧 Procesando: {file_path}\")\n",
        "\n",
        "    # 1. Carga el audio con pydub (asumiendo .wav)\n",
        "    audio = AudioSegment.from_wav(file_path)\n",
        "\n",
        "    # 2. Filtro pasa-altos ~ 100 Hz (similar a usar \"High Pass Filter\" en Audacity)\n",
        "    #    Esto ayuda a quitar ruidos graves o zumbidos.\n",
        "    audio = audio.high_pass_filter(100)\n",
        "\n",
        "    # 3. Compresión:\n",
        "    #    Aproximación a lo que se ve en las capturas de Audacity:\n",
        "    #      - Umbral (threshold) muy bajo (-60 dB),\n",
        "    #      - Relación alta (15:1),\n",
        "    #      - Ataque muy rápido (1 ms),\n",
        "    #      - Decaimiento (release) largo (400 ms),\n",
        "    #      - \"Knee\" no se configura directamente en pydub (lo maneja internamente).\n",
        "    #\n",
        "    #    pydub.compress_dynamic_range() expone estos parámetros:\n",
        "    #        threshold, ratio, attack, release, makeup_gain, ...\n",
        "    #    *No* es exactamente igual que Audacity, pero se acerca.\n",
        "    compressed_audio = effects.compress_dynamic_range(\n",
        "        audio,\n",
        "        threshold=-60.0,    # Umbral (dB)\n",
        "        ratio=15.0,         # Proporción (15:1)\n",
        "        attack=1.0,         # ms (ataque rápido)\n",
        "        release=400.0,      # ms (release largo)\n",
        "        #makeup_gain=False\n",
        "    )\n",
        "\n",
        "    # 4. Convierto el audio comprimido a un array numpy para medir LUFS con pyloudnorm\n",
        "    sample_width = compressed_audio.sample_width\n",
        "    channels = compressed_audio.channels\n",
        "    frame_rate = compressed_audio.frame_rate\n",
        "\n",
        "    # Extraer muestras como array int\n",
        "    samples = np.array(compressed_audio.get_array_of_samples())\n",
        "\n",
        "    # Si hay más de un canal, lo promediamos a mono para medir loudness\n",
        "    if channels > 1:\n",
        "        samples = samples.reshape((-1, channels))\n",
        "        samples = samples.mean(axis=1)\n",
        "\n",
        "    # Convertir int -> float en el rango [-1.0, 1.0]\n",
        "    max_sample_value = float(2 ** (8 * sample_width - 1))\n",
        "    samples = samples / max_sample_value\n",
        "\n",
        "    # 5. Medir Loudness (LUFS) con pyloudnorm\n",
        "    meter = pyln.Meter(frame_rate)\n",
        "    loudness_before = meter.integrated_loudness(samples)\n",
        "    print(f\"   📊 LUFS antes de normalizar: {loudness_before:.2f} LUFS\")\n",
        "\n",
        "    # 6. Normalizar a -14 LUFS (similar a “Normalizar (vía LUFS) a -14.0” en Audacity)\n",
        "    target_lufs = -14.0\n",
        "    samples_normalized = pyln.normalize.loudness(samples, loudness_before, target_lufs)\n",
        "    print(f\"   ✅ Normalizado a {target_lufs} LUFS\")\n",
        "\n",
        "    # 7. Convertir de float a int16 para volver a pydub\n",
        "    y_int16 = np.int16(samples_normalized * max_sample_value)\n",
        "\n",
        "    # Construir un AudioSegment (MONO en este caso)\n",
        "    # Si necesitas estéreo, habría que duplicar canales, etc.\n",
        "    final_audio = AudioSegment(\n",
        "        y_int16.tobytes(),\n",
        "        frame_rate=frame_rate,\n",
        "        sample_width=sample_width,\n",
        "        channels=1\n",
        "    )\n",
        "\n",
        "    # 8. Exportar a WAV\n",
        "    final_audio.export(output_file, format=\"wav\")\n",
        "    print(f\"   ✅ Archivo exportado en: {output_file}\\n\")\n",
        "\n",
        "\n",
        "def procesar_carpeta():\n",
        "    # Crear carpeta de salida si no existe\n",
        "    if not os.path.exists(OUTPUT_FOLDER):\n",
        "        os.makedirs(OUTPUT_FOLDER)\n",
        "\n",
        "    # Buscar todos los .wav en la carpeta de entrada\n",
        "    archivos = glob.glob(os.path.join(INPUT_FOLDER, \"*.wav\"))\n",
        "    if not archivos:\n",
        "        print(f\"No se encontraron archivos WAV en '{INPUT_FOLDER}'.\")\n",
        "        return\n",
        "\n",
        "    print(f\"🎛 Encontrados {len(archivos)} archivo(s) en '{INPUT_FOLDER}'. Iniciando proceso...\\n\")\n",
        "    for i, archivo in enumerate(archivos, 1):\n",
        "        # Nombre de salida\n",
        "        nombre_salida = os.path.basename(archivo).replace(\".wav\", \"_mejorado.wav\")\n",
        "        ruta_salida = os.path.join(OUTPUT_FOLDER, nombre_salida)\n",
        "\n",
        "        # Mejorar\n",
        "        mejorar_audio(archivo, ruta_salida)\n",
        "        print(f\"✅ Progreso: {i}/{len(archivos)} finalizado.\\n\")\n",
        "\n",
        "    print(\"🏁 ¡Proceso completado!\")\n",
        "\n",
        "\n",
        "if __name__ == \"__main__\":\n",
        "    procesar_carpeta()\n"
      ]
    },
    {
      "cell_type": "code",
      "execution_count": 13,
      "metadata": {
        "colab": {
          "base_uri": "https://localhost:8080/"
        },
        "id": "gcMuJuAWWIsH",
        "outputId": "7ab097d5-b8a9-4aa2-8c6e-1bbc769819c4"
      },
      "outputs": [
        {
          "output_type": "stream",
          "name": "stdout",
          "text": [
            "🔗 Uniendo fragmentos de audio mejorado...\n",
            "✅ Audio mejorado final guardado en: /content/drive/MyDrive/erick_videos/0823/audio_mejorado.wav\n"
          ]
        }
      ],
      "source": [
        "# Unir los fragmentos mejorados en un solo archivo\n",
        "print(\"🔗 Uniendo fragmentos de audio mejorado...\")\n",
        "audio_final = AudioSegment.empty()\n",
        "for fragmento in audio_mejorado_fragmentos:\n",
        "    audio_final += AudioSegment.from_wav(fragmento)\n",
        "audio_final.export(processed_audio_path, format=\"wav\")\n",
        "print(f\"✅ Audio mejorado final guardado en: {processed_audio_path}\")"
      ]
    },
    {
      "cell_type": "markdown",
      "metadata": {
        "id": "zGnBYOEzZwIw"
      },
      "source": [
        "# ACA FALTA CODIGO PARA CONVERTIR LOS AUDIOS EN MP3 O AAC, PARA LUEGO UNIRLOS TODOS Y POR ULTIMO UNIRLOS AL VIDEO\n"
      ]
    },
    {
      "cell_type": "code",
      "execution_count": 17,
      "metadata": {
        "colab": {
          "base_uri": "https://localhost:8080/"
        },
        "id": "biuIMGRyXOah",
        "outputId": "eca99b6a-f920-4d27-aef5-09ae9d845a90"
      },
      "outputs": [
        {
          "output_type": "stream",
          "name": "stdout",
          "text": [
            "🎛 Convirtiendo 8 WAV(s) a AAC en: /content/drive/MyDrive/erick_videos/0823/audios_mejorados_aac\n",
            "ffmpeg -y -i /content/drive/MyDrive/erick_videos/0823/audios_mejorados/parte_0_mejorado.wav -c:a aac -b:a 192k /content/drive/MyDrive/erick_videos/0823/audios_mejorados_aac/parte_0_mejorado.aac\n",
            "ffmpeg -y -i /content/drive/MyDrive/erick_videos/0823/audios_mejorados/parte_1_mejorado.wav -c:a aac -b:a 192k /content/drive/MyDrive/erick_videos/0823/audios_mejorados_aac/parte_1_mejorado.aac\n",
            "ffmpeg -y -i /content/drive/MyDrive/erick_videos/0823/audios_mejorados/parte_2_mejorado.wav -c:a aac -b:a 192k /content/drive/MyDrive/erick_videos/0823/audios_mejorados_aac/parte_2_mejorado.aac\n",
            "ffmpeg -y -i /content/drive/MyDrive/erick_videos/0823/audios_mejorados/parte_3_mejorado.wav -c:a aac -b:a 192k /content/drive/MyDrive/erick_videos/0823/audios_mejorados_aac/parte_3_mejorado.aac\n",
            "ffmpeg -y -i /content/drive/MyDrive/erick_videos/0823/audios_mejorados/parte_4_mejorado.wav -c:a aac -b:a 192k /content/drive/MyDrive/erick_videos/0823/audios_mejorados_aac/parte_4_mejorado.aac\n",
            "ffmpeg -y -i /content/drive/MyDrive/erick_videos/0823/audios_mejorados/parte_5_mejorado.wav -c:a aac -b:a 192k /content/drive/MyDrive/erick_videos/0823/audios_mejorados_aac/parte_5_mejorado.aac\n",
            "ffmpeg -y -i /content/drive/MyDrive/erick_videos/0823/audios_mejorados/parte_6_mejorado.wav -c:a aac -b:a 192k /content/drive/MyDrive/erick_videos/0823/audios_mejorados_aac/parte_6_mejorado.aac\n",
            "ffmpeg -y -i /content/drive/MyDrive/erick_videos/0823/audios_mejorados/parte_7_mejorado.wav -c:a aac -b:a 192k /content/drive/MyDrive/erick_videos/0823/audios_mejorados_aac/parte_7_mejorado.aac\n",
            "✅ Conversión de WAV a AAC completada.\n",
            "\n",
            "🎵 Concatenando 8 archivos AAC en: /content/drive/MyDrive/erick_videos/0823/audio_mejorado_full.aac\n",
            "ffmpeg -y -f concat -safe 0 -i aac_concat_list.txt -c copy /content/drive/MyDrive/erick_videos/0823/audio_mejorado_full.aac\n",
            "✅ Audio concatenado final: /content/drive/MyDrive/erick_videos/0823/audio_mejorado_full.aac\n",
            "\n",
            "🎬 Reemplazando audio en el video:\n",
            "   Video in: /content/drive/MyDrive/erick_videos/0823.mp4\n",
            "   Audio in: /content/drive/MyDrive/erick_videos/0823/audio_mejorado_full.aac\n",
            "   Video out: /content/drive/MyDrive/erick_videos/0823/videos_con_audio_mejorado/video_con_audio_mejorado.mp4\n",
            "ffmpeg -y -i /content/drive/MyDrive/erick_videos/0823.mp4 -i /content/drive/MyDrive/erick_videos/0823/audio_mejorado_full.aac -c:v copy -map 0:v:0 -map 1:a:0 -shortest /content/drive/MyDrive/erick_videos/0823/videos_con_audio_mejorado/video_con_audio_mejorado.mp4\n",
            "✅ Video final con audio mejorado: /content/drive/MyDrive/erick_videos/0823/videos_con_audio_mejorado/video_con_audio_mejorado.mp4\n",
            "\n",
            "🎉 ¡Proceso completado!\n"
          ]
        }
      ],
      "source": [
        "import os\n",
        "import glob\n",
        "import subprocess\n",
        "\n",
        "# Asumiendo que ya tienes definidas estas variables arriba en tu código:\n",
        "# video_path           -> ruta completa del MP4 original (p.ej. \".../0823.mp4\")\n",
        "# video_folder         -> carpeta base (p.ej. \".../0823/\")\n",
        "# audio_mejorado_folder -> carpeta con los .wav mejorados (p.ej. \".../0823/audios_mejorados/\")\n",
        "# video_output_folder  -> carpeta donde guardarás el MP4 final (p.ej. \".../0823/videos_con_audio_mejorado/\")\n",
        "# final_video_path     -> ruta final de salida para el video (p.ej. \".../0823/videos_con_audio_mejorado/video_con_audio_mejorado.mp4\")\n",
        "\n",
        "# 1) Definimos carpeta para archivos AAC\n",
        "aac_folder = os.path.join(video_folder, \"audios_mejorados_aac\")\n",
        "os.makedirs(aac_folder, exist_ok=True)\n",
        "\n",
        "# 2) Definimos ruta para el archivo concatenado final (AAC)\n",
        "audio_mejorado_full = os.path.join(video_folder, \"audio_mejorado_full.aac\")\n",
        "\n",
        "def convertir_wavs_a_aac():\n",
        "    \"\"\"Convierte todos los .wav en 'audio_mejorado_folder' a .aac (códec AAC) y los guarda en 'aac_folder'.\"\"\"\n",
        "    wav_files = sorted(glob.glob(os.path.join(audio_mejorado_folder, \"*.wav\")))\n",
        "    if not wav_files:\n",
        "        print(f\"No se encontraron archivos WAV en '{audio_mejorado_folder}'.\")\n",
        "        return\n",
        "\n",
        "    print(f\"🎛 Convirtiendo {len(wav_files)} WAV(s) a AAC en: {aac_folder}\")\n",
        "\n",
        "    for wav_path in wav_files:\n",
        "        base = os.path.basename(wav_path).replace(\".wav\", \".aac\")\n",
        "        aac_path = os.path.join(aac_folder, base)\n",
        "\n",
        "        cmd = [\n",
        "            \"ffmpeg\", \"-y\",\n",
        "            \"-i\", wav_path,\n",
        "            \"-c:a\", \"aac\",\n",
        "            \"-b:a\", \"192k\",\n",
        "            aac_path\n",
        "        ]\n",
        "        print(\" \".join(cmd))\n",
        "        subprocess.run(cmd, check=True)\n",
        "\n",
        "    print(\"✅ Conversión de WAV a AAC completada.\\n\")\n",
        "\n",
        "\n",
        "def concatenar_aac(archivo_salida=audio_mejorado_full):\n",
        "    \"\"\"\n",
        "    Concatena todos los .aac en 'aac_folder' en un solo archivo .aac\n",
        "    usando el concat demuxer de ffmpeg.\n",
        "    \"\"\"\n",
        "    aac_files = sorted(glob.glob(os.path.join(aac_folder, \"*.aac\")))\n",
        "    if not aac_files:\n",
        "        print(f\"No se encontraron archivos AAC en '{aac_folder}'.\")\n",
        "        return\n",
        "\n",
        "    print(f\"🎵 Concatenando {len(aac_files)} archivos AAC en: {archivo_salida}\")\n",
        "\n",
        "    # 1. Crear listita para concat demuxer\n",
        "    list_file = \"aac_concat_list.txt\"\n",
        "    with open(list_file, \"w\") as f:\n",
        "        for aac in aac_files:\n",
        "            # Formato: file '/ruta/completa'\n",
        "            f.write(f\"file '{os.path.abspath(aac)}'\\n\")\n",
        "\n",
        "    # 2. Ejecutar ffmpeg: -f concat -safe 0 -i list_file -c copy archivo_salida\n",
        "    cmd = [\n",
        "        \"ffmpeg\", \"-y\",\n",
        "        \"-f\", \"concat\",\n",
        "        \"-safe\", \"0\",\n",
        "        \"-i\", list_file,\n",
        "        \"-c\", \"copy\",\n",
        "        archivo_salida\n",
        "    ]\n",
        "    print(\" \".join(cmd))\n",
        "    subprocess.run(cmd, check=True)\n",
        "\n",
        "    print(f\"✅ Audio concatenado final: {archivo_salida}\\n\")\n",
        "\n",
        "\n",
        "def unir_audio_con_video(\n",
        "    audio_aac=audio_mejorado_full,\n",
        "    video_in=video_path,\n",
        "    video_out=final_video_path\n",
        "):\n",
        "    \"\"\"\n",
        "    Reemplaza el audio del video original con el AAC concatenado.\n",
        "    - Copiamos el video (-c:v copy).\n",
        "    - '-map' para elegir video de la 1ª entrada, audio de la 2ª.\n",
        "    - '-shortest' por si hay pequeña diferencia de duración.\n",
        "    \"\"\"\n",
        "    print(f\"🎬 Reemplazando audio en el video:\\n   Video in: {video_in}\\n   Audio in: {audio_aac}\\n   Video out: {video_out}\")\n",
        "\n",
        "    if not os.path.exists(audio_aac):\n",
        "        print(f\"❌ No existe el archivo de audio: {audio_aac}\")\n",
        "        return\n",
        "    if not os.path.exists(video_in):\n",
        "        print(f\"❌ No existe el archivo de video: {video_in}\")\n",
        "        return\n",
        "\n",
        "    cmd = [\n",
        "        \"ffmpeg\", \"-y\",\n",
        "        \"-i\", video_in,\n",
        "        \"-i\", audio_aac,\n",
        "        \"-c:v\", \"copy\",\n",
        "        \"-map\", \"0:v:0\",\n",
        "        \"-map\", \"1:a:0\",\n",
        "        \"-shortest\",\n",
        "        video_out\n",
        "    ]\n",
        "    print(\" \".join(cmd))\n",
        "    subprocess.run(cmd, check=True)\n",
        "\n",
        "    print(f\"✅ Video final con audio mejorado: {video_out}\\n\")\n",
        "\n",
        "\n",
        "# -------------------------------------------------------------------------\n",
        "# Ejecución de ejemplo:\n",
        "# -------------------------------------------------------------------------\n",
        "if __name__ == \"__main__\":\n",
        "    # 1) Convierte todos los WAV mejorados a AAC\n",
        "    convertir_wavs_a_aac()\n",
        "\n",
        "    # 2) Concatena todos los AAC\n",
        "    concatenar_aac(audio_mejorado_full)\n",
        "\n",
        "    # 3) Une el audio concatenado con el video original\n",
        "    unir_audio_con_video(\n",
        "        audio_aac=audio_mejorado_full,\n",
        "        video_in=video_path,\n",
        "        video_out=final_video_path\n",
        "    )\n",
        "\n",
        "    print(\"🎉 ¡Proceso completado!\")\n"
      ]
    },
    {
      "cell_type": "code",
      "execution_count": 18,
      "metadata": {
        "colab": {
          "base_uri": "https://localhost:8080/"
        },
        "id": "LJUudi05Z5cX",
        "outputId": "03e5049e-0186-48b9-cb6a-e9c3b87f7c2e"
      },
      "outputs": [
        {
          "metadata": {
            "tags": null
          },
          "name": "stdout",
          "output_type": "stream",
          "text": [
            "✅ Se encontraron 8 fragmentos de audio mejorado.\n",
            "📝 Iniciando transcripción...\n"
          ]
        },
        {
          "metadata": {
            "tags": null
          },
          "name": "stderr",
          "output_type": "stream",
          "text": [
            "/usr/local/lib/python3.11/dist-packages/whisper/__init__.py:150: FutureWarning: You are using `torch.load` with `weights_only=False` (the current default value), which uses the default pickle module implicitly. It is possible to construct malicious pickle data which will execute arbitrary code during unpickling (See https://github.com/pytorch/pytorch/blob/main/SECURITY.md#untrusted-models for more details). In a future release, the default value for `weights_only` will be flipped to `True`. This limits the functions that could be executed during unpickling. Arbitrary objects will no longer be allowed to be loaded via this mode unless they are explicitly allowlisted by the user via `torch.serialization.add_safe_globals`. We recommend you start setting `weights_only=True` for any use case where you don't have full control of the loaded file. Please open an issue on GitHub for any issues related to this experimental feature.\n",
            "  checkpoint = torch.load(fp, map_location=device)\n"
          ]
        },
        {
          "metadata": {
            "tags": null
          },
          "name": "stdout",
          "output_type": "stream",
          "text": [
            "📝 Transcribiendo fragmento 1/8...\n"
          ]
        },
        {
          "metadata": {
            "tags": null
          },
          "name": "stderr",
          "output_type": "stream",
          "text": [
            "/usr/local/lib/python3.11/dist-packages/whisper/transcribe.py:126: UserWarning: FP16 is not supported on CPU; using FP32 instead\n",
            "  warnings.warn(\"FP16 is not supported on CPU; using FP32 instead\")\n"
          ]
        },
        {
          "metadata": {
            "tags": null
          },
          "name": "stdout",
          "output_type": "stream",
          "text": [
            "✅ Transcripción guardada: /content/drive/MyDrive/erick_videos/0823/transcripciones/transcripcion.txt\n",
            "📝 Transcribiendo fragmento 2/8...\n"
          ]
        },
        {
          "metadata": {
            "tags": null
          },
          "name": "stderr",
          "output_type": "stream",
          "text": [
            "/usr/local/lib/python3.11/dist-packages/whisper/transcribe.py:126: UserWarning: FP16 is not supported on CPU; using FP32 instead\n",
            "  warnings.warn(\"FP16 is not supported on CPU; using FP32 instead\")\n"
          ]
        },
        {
          "output_type": "stream",
          "name": "stdout",
          "text": [
            "✅ Transcripción guardada: /content/drive/MyDrive/erick_videos/0823/transcripciones/transcripcion.txt\n",
            "📝 Transcribiendo fragmento 3/8...\n"
          ]
        },
        {
          "output_type": "stream",
          "name": "stderr",
          "text": [
            "/usr/local/lib/python3.11/dist-packages/whisper/transcribe.py:126: UserWarning: FP16 is not supported on CPU; using FP32 instead\n",
            "  warnings.warn(\"FP16 is not supported on CPU; using FP32 instead\")\n"
          ]
        },
        {
          "output_type": "stream",
          "name": "stdout",
          "text": [
            "✅ Transcripción guardada: /content/drive/MyDrive/erick_videos/0823/transcripciones/transcripcion.txt\n",
            "📝 Transcribiendo fragmento 4/8...\n"
          ]
        },
        {
          "output_type": "stream",
          "name": "stderr",
          "text": [
            "/usr/local/lib/python3.11/dist-packages/whisper/transcribe.py:126: UserWarning: FP16 is not supported on CPU; using FP32 instead\n",
            "  warnings.warn(\"FP16 is not supported on CPU; using FP32 instead\")\n"
          ]
        },
        {
          "output_type": "stream",
          "name": "stdout",
          "text": [
            "✅ Transcripción guardada: /content/drive/MyDrive/erick_videos/0823/transcripciones/transcripcion.txt\n",
            "📝 Transcribiendo fragmento 5/8...\n"
          ]
        },
        {
          "output_type": "stream",
          "name": "stderr",
          "text": [
            "/usr/local/lib/python3.11/dist-packages/whisper/transcribe.py:126: UserWarning: FP16 is not supported on CPU; using FP32 instead\n",
            "  warnings.warn(\"FP16 is not supported on CPU; using FP32 instead\")\n"
          ]
        },
        {
          "output_type": "stream",
          "name": "stdout",
          "text": [
            "✅ Transcripción guardada: /content/drive/MyDrive/erick_videos/0823/transcripciones/transcripcion.txt\n",
            "📝 Transcribiendo fragmento 6/8...\n"
          ]
        },
        {
          "output_type": "stream",
          "name": "stderr",
          "text": [
            "/usr/local/lib/python3.11/dist-packages/whisper/transcribe.py:126: UserWarning: FP16 is not supported on CPU; using FP32 instead\n",
            "  warnings.warn(\"FP16 is not supported on CPU; using FP32 instead\")\n"
          ]
        },
        {
          "output_type": "stream",
          "name": "stdout",
          "text": [
            "✅ Transcripción guardada: /content/drive/MyDrive/erick_videos/0823/transcripciones/transcripcion.txt\n",
            "📝 Transcribiendo fragmento 7/8...\n"
          ]
        },
        {
          "output_type": "stream",
          "name": "stderr",
          "text": [
            "/usr/local/lib/python3.11/dist-packages/whisper/transcribe.py:126: UserWarning: FP16 is not supported on CPU; using FP32 instead\n",
            "  warnings.warn(\"FP16 is not supported on CPU; using FP32 instead\")\n"
          ]
        },
        {
          "output_type": "stream",
          "name": "stdout",
          "text": [
            "✅ Transcripción guardada: /content/drive/MyDrive/erick_videos/0823/transcripciones/transcripcion.txt\n",
            "📝 Transcribiendo fragmento 8/8...\n"
          ]
        },
        {
          "output_type": "stream",
          "name": "stderr",
          "text": [
            "/usr/local/lib/python3.11/dist-packages/whisper/transcribe.py:126: UserWarning: FP16 is not supported on CPU; using FP32 instead\n",
            "  warnings.warn(\"FP16 is not supported on CPU; using FP32 instead\")\n"
          ]
        },
        {
          "output_type": "stream",
          "name": "stdout",
          "text": [
            "✅ Transcripción guardada: /content/drive/MyDrive/erick_videos/0823/transcripciones/transcripcion.txt\n",
            "✅ Transcripción completa guardada en /content/drive/MyDrive/erick_videos/0823/transcripcion_final.txt\n"
          ]
        }
      ],
      "source": [
        "import os\n",
        "from pydub import AudioSegment\n",
        "import librosa\n",
        "import numpy as np\n",
        "import soundfile as sf\n",
        "import whisper\n",
        "import torch\n",
        "\n",
        "\n",
        "# Definir carpeta del video y sus archivos\n",
        "video_folder = f\"{video_folder}\"  # Ajusta el nombre si es diferente\n",
        "audio_processed_folder = f\"{video_folder}/audios_mejorados\"\n",
        "os.makedirs(audio_processed_folder, exist_ok=True)\n",
        "\n",
        "# Carpeta para las transcripciones\n",
        "transcription_folder = f\"{video_folder}/transcripciones\"\n",
        "os.makedirs(transcription_folder, exist_ok=True)\n",
        "\n",
        "# Obtener lista de archivos de audio mejorados\n",
        "partes = sorted([os.path.join(audio_processed_folder, f) for f in os.listdir(audio_processed_folder) if f.endswith(\".wav\")])\n",
        "print(f\"✅ Se encontraron {len(partes)} fragmentos de audio mejorado.\")\n",
        "\n",
        "# Transcribir cada fragmento con Whisper\n",
        "print(\"📝 Iniciando transcripción...\")\n",
        "device = \"cuda\" if torch.cuda.is_available() else \"cpu\"\n",
        "model = whisper.load_model(\"base\").to(device)\n",
        "\n",
        "transcripcion_completa = \"\"\n",
        "for i, parte in enumerate(partes):\n",
        "    print(f\"📝 Transcribiendo fragmento {i+1}/{len(partes)}...\")\n",
        "    result = model.transcribe(parte)\n",
        "\n",
        "    transcripcion_path = f\"{transcription_folder}/transcription_{i}.txt\"\n",
        "    with open(transcripcion_path, \"w\") as f:\n",
        "        f.write(result[\"text\"])\n",
        "\n",
        "    transcripcion_completa += result[\"text\"] + \"\\n\"\n",
        "    print(f\"✅ Transcripción guardada: {transcription_path}\")\n",
        "\n",
        "# Guardar transcripción completa en la misma carpeta del video\n",
        "transcription_final_path = f\"{video_folder}/transcripcion_final.txt\"\n",
        "with open(transcription_final_path, \"w\") as f:\n",
        "    f.write(transcripcion_completa)\n",
        "\n",
        "print(f\"✅ Transcripción completa guardada en {transcription_final_path}\")\n"
      ]
    }
  ],
  "metadata": {
    "colab": {
      "provenance": [],
      "include_colab_link": true
    },
    "kernelspec": {
      "display_name": "Python 3",
      "name": "python3"
    },
    "language_info": {
      "name": "python"
    }
  },
  "nbformat": 4,
  "nbformat_minor": 0
}